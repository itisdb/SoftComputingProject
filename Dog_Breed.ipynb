{
  "cells": [
    {
      "cell_type": "code",
      "execution_count": null,
      "metadata": {
        "id": "v-IUropJ2Oa9"
      },
      "outputs": [],
      "source": [
        "from google.colab import drive\n",
        "drive.mount('/content/drive')"
      ]
    },
    {
      "cell_type": "code",
      "execution_count": null,
      "metadata": {
        "id": "uhcHrwuO2j8k"
      },
      "outputs": [],
      "source": [
        "import os\n",
        "c=0\n",
        "dir_train = '/content/drive/MyDrive/Deep Learning/train'\n",
        "for i in os.listdir(dir_train):\n",
        "  c=c+1\n",
        "print(\"Number of train data = \",c)\n",
        "c=0\n",
        "dir_validation = '/content/drive/MyDrive/Deep Learning/test'\n",
        "for i in os.listdir(dir_validation):\n",
        "  c=c+1\n",
        "print(\"Number of validation data = \",c)"
      ]
    },
    {
      "cell_type": "code",
      "execution_count": null,
      "metadata": {
        "id": "pK9xPbyY2kAW"
      },
      "outputs": [],
      "source": [
        "import pandas as pd\n",
        "dat = pd.read_csv('/content/drive/MyDrive/Deep Learning/labels.csv')\n",
        "dat = dat[0:1021]\n",
        "dat"
      ]
    },
    {
      "cell_type": "code",
      "execution_count": null,
      "metadata": {
        "id": "uTX166Xd2kDw"
      },
      "outputs": [],
      "source": [
        "import numpy as np\n",
        "y = dat['breed']\n",
        "y"
      ]
    },
    {
      "cell_type": "code",
      "source": [
        "y = pd.get_dummies(y)\n",
        "y"
      ],
      "metadata": {
        "id": "t9HC6U31ZU-L"
      },
      "execution_count": null,
      "outputs": []
    },
    {
      "cell_type": "code",
      "execution_count": null,
      "metadata": {
        "id": "kAa9soZw42GZ"
      },
      "outputs": [],
      "source": [
        "import tensorflow as tf\n",
        "from tensorflow import keras\n",
        "import matplotlib.pyplot as plt\n",
        "import cv2\n",
        "for i in os.listdir(dir_train):\n",
        "    image = plt.imread(dir_train + '/' + i)\n",
        "    plt.imshow(image)\n",
        "    print(\"Image shape = \",np.shape(image))\n",
        "    print(image)\n",
        "    break\n"
      ]
    },
    {
      "cell_type": "code",
      "execution_count": null,
      "metadata": {
        "id": "vNy-7O4W42UH"
      },
      "outputs": [],
      "source": [
        "from tensorflow.keras.models import Sequential\n",
        "from tensorflow.keras.layers import Dense, Dropout,Flatten,Activation,Conv2D,MaxPooling2D\n",
        "from tensorflow.keras.preprocessing.image import ImageDataGenerator\n",
        "from tensorflow.keras.preprocessing import image\n",
        "\n",
        "y = np.array(y)\n",
        "X = []\n",
        "for i in os.listdir(dir_train):\n",
        "    img = cv2.imread(dir_train + '/' + i)\n",
        "    img = cv2.resize(img,(100,100))\n",
        "    #img = np.array(img)\n",
        "    #img = np.clip(img/255.0,0.0,1.0)\n",
        "    X.append(img)\n",
        "X = np.array(X)"
      ]
    },
    {
      "cell_type": "code",
      "source": [
        "print(np.shape(X[0]))\n",
        "X[0]"
      ],
      "metadata": {
        "id": "0rN5ZXEJO0NM"
      },
      "execution_count": null,
      "outputs": []
    },
    {
      "cell_type": "code",
      "source": [
        "from google.colab.patches import cv2_imshow\n",
        "cv2_imshow(X[0])"
      ],
      "metadata": {
        "id": "8R7BV1WzJTzx"
      },
      "execution_count": null,
      "outputs": []
    },
    {
      "cell_type": "code",
      "execution_count": null,
      "metadata": {
        "id": "8inCturZnPJ1"
      },
      "outputs": [],
      "source": [
        "np.shape(X[0])"
      ]
    },
    {
      "cell_type": "code",
      "source": [
        "X_validation = []\n",
        "for i in os.listdir(dir_validation):\n",
        "    img = cv2.imread(dir_validation + '/' + i)\n",
        "    img = cv2.resize(img,(100,100))\n",
        "    #img = np.array(img)\n",
        "    #img = np.clip(img/255.0,0.0,1.0)\n",
        "    X_validation.append(img)\n",
        "X_validation = np.array(X_validation)"
      ],
      "metadata": {
        "id": "IUUbkNDwnvyT"
      },
      "execution_count": null,
      "outputs": []
    },
    {
      "cell_type": "code",
      "source": [
        "np.shape(X_validation)"
      ],
      "metadata": {
        "id": "fNOSxN5Onv_i"
      },
      "execution_count": null,
      "outputs": []
    },
    {
      "cell_type": "code",
      "source": [
        "from sklearn.model_selection import train_test_split\n",
        "X_train, X_test, y_train, y_test = train_test_split(X, y, random_state=42, test_size=0.2)"
      ],
      "metadata": {
        "id": "FEMr-u7GouuI"
      },
      "execution_count": null,
      "outputs": []
    },
    {
      "cell_type": "code",
      "source": [
        "model= Sequential()\n",
        "model.add(Conv2D(16,kernel_size=(7,7),input_shape=(100,100,3)))\n",
        "model.add(Activation('relu'))\n",
        "model.add(MaxPooling2D(pool_size=(2,2)))\n",
        "\n",
        "model.add(Conv2D(32,kernel_size=(7,7)))\n",
        "model.add(Activation('relu'))\n",
        "model.add(MaxPooling2D(pool_size=(2,2)))\n",
        "\n",
        "model.add(Conv2D(64,kernel_size=(7,7)))\n",
        "model.add(Activation('relu'))\n",
        "model.add(MaxPooling2D(pool_size=(2,2)))\n",
        "\n",
        "model.add(Flatten())\n",
        "\n",
        "model.add(Dense(64))\n",
        "model.add(Dense(120,activation = 'softmax'))\n",
        "\n",
        "model.compile(loss='categorical_crossentropy',optimizer='adam',metrics=['accuracy'])\n"
      ],
      "metadata": {
        "id": "_F6zinu4pwh2"
      },
      "execution_count": null,
      "outputs": []
    },
    {
      "cell_type": "code",
      "source": [
        "model.fit(X_train, y_train, epochs=10, validation_data=(X_test, y_test))"
      ],
      "metadata": {
        "id": "SeF_9_V1ouxS"
      },
      "execution_count": null,
      "outputs": []
    },
    {
      "cell_type": "code",
      "source": [
        "y_pred = model.predict(X_test)\n",
        "y_pred =np.argmax(y_pred,axis=1)\n",
        "y_pred"
      ],
      "metadata": {
        "id": "OPu8MmOh9VNx"
      },
      "execution_count": null,
      "outputs": []
    },
    {
      "cell_type": "code",
      "source": [
        "y_test=np.argmax(y_test,axis=1)\n",
        "y_test"
      ],
      "metadata": {
        "id": "t06gTq2c9iQB"
      },
      "execution_count": null,
      "outputs": []
    },
    {
      "cell_type": "code",
      "source": [
        "pred = model.predict(X_validation)\n",
        "classes =np.argmax(pred,axis=1)\n",
        "classes"
      ],
      "metadata": {
        "id": "5Q98gjhUou0b"
      },
      "execution_count": null,
      "outputs": []
    },
    {
      "cell_type": "code",
      "execution_count": null,
      "metadata": {
        "id": "Uhws_eeVTaYU"
      },
      "outputs": [],
      "source": [
        "model = Sequential([Conv2D(16,(3,3),activation=\"relu\",input_shape=(50,50,1)),MaxPooling2D(2,2),\n",
        "                    Conv2D(32,(3,3),activation=\"relu\"),MaxPooling2D(2,2),\n",
        "                    Conv2D(64,(3,3),activation=\"relu\"),MaxPooling2D(2,2),\n",
        "                    Flatten(),\n",
        "                    Dense(512,activation=\"relu\"),\n",
        "                    Dense(120,activation=\"softmax\"),\n",
        "                  ])\n",
        "\n"
      ]
    },
    {
      "cell_type": "code",
      "execution_count": null,
      "metadata": {
        "id": "vQL5VS-CXeXR"
      },
      "outputs": [],
      "source": [
        ""
      ]
    }
  ],
  "metadata": {
    "colab": {
      "name": "Dog Breed.ipynb",
      "provenance": [],
      "collapsed_sections": []
    },
    "kernelspec": {
      "display_name": "Python 3",
      "name": "python3"
    },
    "language_info": {
      "name": "python"
    }
  },
  "nbformat": 4,
  "nbformat_minor": 0
}