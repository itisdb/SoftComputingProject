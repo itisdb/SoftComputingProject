{
  "nbformat": 4,
  "nbformat_minor": 0,
  "metadata": {
    "colab": {
      "name": "MFCC.ipynb",
      "provenance": [],
      "collapsed_sections": []
    },
    "kernelspec": {
      "name": "python3",
      "display_name": "Python 3"
    },
    "language_info": {
      "name": "python"
    }
  },
  "cells": [
    {
      "cell_type": "code",
      "execution_count": null,
      "metadata": {
        "id": "GBsGBXhUWzIx"
      },
      "outputs": [],
      "source": [
        "from google.colab import drive\n",
        "drive.mount('/content/drive')"
      ]
    },
    {
      "cell_type": "code",
      "source": [
        "import pandas as pd \n",
        "import numpy as np\n",
        "import matplotlib.pyplot as plt\n",
        "dat = pd.read_csv('/content/drive/MyDrive/Deep Learning/features_30_sec.csv')\n",
        "dat\n"
      ],
      "metadata": {
        "id": "ZR3RAi6OXC_c"
      },
      "execution_count": null,
      "outputs": []
    },
    {
      "cell_type": "code",
      "source": [
        "import os\n",
        "import librosa\n",
        "import IPython.display as ipd\n",
        "\n",
        "dir = '/content/drive/MyDrive/Deep Learning/genres_original'\n",
        "for i in os.listdir(dir):\n",
        "  aud,sample_rate = librosa.load(dir + '/' + i)\n",
        "  librosa.display.waveplot(aud,sr=sample_rate)\n",
        "  wn = ipd.Audio(dir + '/' + i)\n",
        "  ipd.display(wn)\n",
        "  break\n"
      ],
      "metadata": {
        "id": "bbxyUrOVb5Jy"
      },
      "execution_count": null,
      "outputs": []
    },
    {
      "cell_type": "code",
      "source": [
        "print(aud)\n",
        "print(np.shape(aud))\n",
        "print(sample_rate)"
      ],
      "metadata": {
        "id": "K_vVSnz0XDQX"
      },
      "execution_count": null,
      "outputs": []
    },
    {
      "cell_type": "code",
      "source": [
        "from librosa.feature import mfcc\n",
        "op = mfcc(y=aud,sr=sample_rate,n_mfcc=40)\n",
        "print(np.shape(op))\n",
        "op"
      ],
      "metadata": {
        "id": "0eF6MTc7XDTp"
      },
      "execution_count": null,
      "outputs": []
    },
    {
      "cell_type": "code",
      "source": [
        "feature = np.mean(np.transpose(op),axis=0)\n",
        "feature"
      ],
      "metadata": {
        "id": "Pq_GUsSLkr2v"
      },
      "execution_count": null,
      "outputs": []
    },
    {
      "cell_type": "code",
      "source": [
        "X = []\n",
        "c=0\n",
        "for i in os.listdir(dir):\n",
        "  aud,sample_rate = librosa.load(dir + '/' + i)\n",
        "  op = mfcc(y=aud,sr=sample_rate,n_mfcc=40)\n",
        "  feature = np.mean(np.transpose(op),axis=0)\n",
        "  X.append(feature)\n",
        "  if(c==499):\n",
        "    break\n",
        "  c=c+1\n"
      ],
      "metadata": {
        "id": "PP__BoXrksKc"
      },
      "execution_count": null,
      "outputs": []
    },
    {
      "cell_type": "code",
      "source": [
        "X = np.array(X)\n",
        "print(np.shape(X))\n",
        "X"
      ],
      "metadata": {
        "id": "bM6u0Rmf11WB"
      },
      "execution_count": null,
      "outputs": []
    },
    {
      "cell_type": "code",
      "source": [
        "y = dat['label'][0:500]\n",
        "y"
      ],
      "metadata": {
        "id": "KzkO2Yes3DbE"
      },
      "execution_count": null,
      "outputs": []
    },
    {
      "cell_type": "code",
      "source": [
        "y = pd.get_dummies(y)\n",
        "y"
      ],
      "metadata": {
        "id": "HBVzuAw93DeM"
      },
      "execution_count": null,
      "outputs": []
    },
    {
      "cell_type": "code",
      "source": [
        "from sklearn.model_selection import train_test_split\n",
        "X_train,X_test,y_train,y_test = train_test_split(X,y,test_size=0.2,random_state=42)\n",
        "print(np.shape(X_train))\n",
        "print(np.shape(y_train))\n",
        "print(np.shape(X_test))\n",
        "print(np.shape(y_test))"
      ],
      "metadata": {
        "id": "-fBpfCW63Dkg"
      },
      "execution_count": null,
      "outputs": []
    },
    {
      "cell_type": "code",
      "source": [
        "from tensorflow.keras.models import Sequential\n",
        "from tensorflow.keras.layers import Dense,Dropout,Activation,Flatten\n",
        "\n",
        "model = Sequential()\n",
        "model.add(Flatten())\n",
        "model.add(Dense(units=100, input_dim=40, activation='relu'))\n",
        "model.add(Dense(units=500, activation='relu'))\n",
        "model.add(Dense(units=100, activation='relu'))\n",
        "model.add(Dense(5, activation='softmax'))\n",
        "\n",
        "model.compile(loss='categorical_crossentropy', optimizer='adam',metrics=['accuracy'])\n",
        "\n",
        "model.fit(X_train,y_train,epochs=100,validation_data=(X_test,y_test))"
      ],
      "metadata": {
        "id": "jhEDB7NW8U7N"
      },
      "execution_count": null,
      "outputs": []
    },
    {
      "cell_type": "code",
      "source": [
        "y_pred = model.predict(X_test)\n",
        "print(y_pred)\n",
        "for i in range(0,np.shape(y_pred)[0]):\n",
        "  for j in range(0,np.shape(y_pred)[1]):\n",
        "    if(y_pred[i][j]>0.5):\n",
        "      y_pred[i][j]=1\n",
        "    else:\n",
        "      y_pred[i][j]=0\n",
        "\n",
        "y_pred"
      ],
      "metadata": {
        "id": "FezakHbH8VBp"
      },
      "execution_count": null,
      "outputs": []
    },
    {
      "cell_type": "code",
      "source": [
        "y_test"
      ],
      "metadata": {
        "id": "8qlUy6eSHp9S"
      },
      "execution_count": null,
      "outputs": []
    },
    {
      "cell_type": "code",
      "source": [
        "c=0\n",
        "y_test=np.array(y_test)\n",
        "for i in range(0,np.shape(y_pred)[0]):\n",
        "  for j in range(0,np.shape(y_pred)[1]):\n",
        "    if(y_test[i][j]==1 and y_pred[i][j]==1):\n",
        "      c=c+1\n",
        "print(c/100)\n"
      ],
      "metadata": {
        "id": "sjBwzvfHKq7t"
      },
      "execution_count": null,
      "outputs": []
    },
    {
      "cell_type": "code",
      "source": [
        "from sklearn.metrics import accuracy_score\n",
        "accuracy_score(y_test,y_pred)"
      ],
      "metadata": {
        "id": "eY3UMmBMKRL2"
      },
      "execution_count": null,
      "outputs": []
    }
  ]
}