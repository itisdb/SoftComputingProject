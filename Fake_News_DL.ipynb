{
  "nbformat": 4,
  "nbformat_minor": 0,
  "metadata": {
    "colab": {
      "name": "Fake News DL.ipynb",
      "provenance": [],
      "collapsed_sections": []
    },
    "kernelspec": {
      "name": "python3",
      "display_name": "Python 3"
    },
    "language_info": {
      "name": "python"
    }
  },
  "cells": [
    {
      "cell_type": "code",
      "execution_count": null,
      "metadata": {
        "id": "aS4RTbBwVOGp"
      },
      "outputs": [],
      "source": [
        "from google.colab import drive\n",
        "drive.mount('/content/drive')"
      ]
    },
    {
      "cell_type": "code",
      "source": [
        "import  numpy as np\n",
        "import pandas as pd\n",
        "dat = pd.read_csv(\"/content/drive/MyDrive/Machine Learning /news.csv\")\n",
        "dat"
      ],
      "metadata": {
        "id": "-cxG4r_yVRec"
      },
      "execution_count": null,
      "outputs": []
    },
    {
      "cell_type": "code",
      "source": [
        "df=pd.DataFrame(dat)\n",
        "y= df['label']\n",
        "y"
      ],
      "metadata": {
        "id": "ZHlT-gFkWvum"
      },
      "execution_count": null,
      "outputs": []
    },
    {
      "cell_type": "code",
      "source": [
        "df =df.drop(['label','Unnamed: 0','title'],axis=1)\n",
        "X=df\n",
        "X"
      ],
      "metadata": {
        "id": "dfzDjEzhWvyp"
      },
      "execution_count": null,
      "outputs": []
    },
    {
      "cell_type": "code",
      "source": [
        "from sklearn.metrics import accuracy_score,classification_report\n",
        "from sklearn.model_selection import train_test_split\n",
        "from sklearn.linear_model import PassiveAggressiveClassifier\n",
        "from sklearn.feature_extraction.text import CountVectorizer\n",
        "cv = CountVectorizer()\n",
        "X_train,X_test,y_train,y_test = train_test_split(X,y,test_size=0.2)\n",
        "X_train_new=cv.fit_transform(X_train['text'])\n",
        "X_test_new = cv.transform(X_test['text'])\n",
        "\n",
        "print(cv.get_feature_names())\n",
        "print(np.shape(cv.get_feature_names()))\n",
        "print(X_train_new.toarray())\n",
        "np.shape(X_train_new.toarray())"
      ],
      "metadata": {
        "id": "Km7TGXSsWv2Y"
      },
      "execution_count": null,
      "outputs": []
    },
    {
      "cell_type": "code",
      "source": [
        "pac = PassiveAggressiveClassifier(max_iter=50)\n",
        "pac.fit(X_train_new,y_train)\n",
        "y_pred = pac.predict(X_test_new)\n",
        "print(\"Predicted value is \\n\",y_pred)\n",
        "print(\"Real value is \\n\",y_test)"
      ],
      "metadata": {
        "id": "LK5kGMy9Wv6Y"
      },
      "execution_count": null,
      "outputs": []
    },
    {
      "cell_type": "code",
      "source": [
        "accuracy_score(y_test,y_pred)"
      ],
      "metadata": {
        "id": "Wdc_3Wj1Wv9y"
      },
      "execution_count": null,
      "outputs": []
    },
    {
      "cell_type": "code",
      "source": [
        "import nltk\n",
        "import re\n",
        "nltk.download('stopwords')\n",
        "from nltk.corpus import stopwords\n",
        "from nltk.stem.porter import PorterStemmer\n",
        "ps = PorterStemmer()\n",
        "sw=stopwords.words('english')"
      ],
      "metadata": {
        "id": "BDZre0U8dNnV"
      },
      "execution_count": null,
      "outputs": []
    },
    {
      "cell_type": "code",
      "source": [
        "dat = pd.read_csv(\"/content/drive/MyDrive/Machine Learning /news.csv\")\n",
        "dat"
      ],
      "metadata": {
        "id": "rdEm-hhldNqR"
      },
      "execution_count": null,
      "outputs": []
    },
    {
      "cell_type": "code",
      "source": [
        "rev1 = []\n",
        "for i in range(0,6335):\n",
        "  new = re.sub('[^a-zA-Z]',' ',dat['title'][i])\n",
        "  new = new.lower()\n",
        "  new = new.split()\n",
        "  new = [ps.stem(word) for word in new if not word in set(sw)]\n",
        "  new =  ' '.join(new)\n",
        "  rev1.append(new)\n",
        "rev1"
      ],
      "metadata": {
        "id": "uebHL_NUdNtO"
      },
      "execution_count": null,
      "outputs": []
    },
    {
      "cell_type": "code",
      "source": [
        "voc_size = 6000\n",
        "onehot_repr=[one_hot(words,voc_size)for words in rev1]\n",
        "sent_length=20\n",
        "embedded_docs=pad_sequences(onehot_repr,padding='pre',maxlen=sent_length)\n",
        "print(embedded_docs)\n",
        "np.shape(embedded_docs)"
      ],
      "metadata": {
        "id": "XSj2aJwrfQoy"
      },
      "execution_count": null,
      "outputs": []
    },
    {
      "cell_type": "code",
      "source": [
        "from tensorflow.keras.layers import Embedding\n",
        "from tensorflow.keras.preprocessing.sequence import pad_sequences\n",
        "from tensorflow.keras.models import Sequential\n",
        "from tensorflow.keras.preprocessing.text import one_hot\n",
        "from tensorflow.keras.layers import LSTM\n",
        "from tensorflow.keras.layers import Bidirectional\n",
        "from tensorflow.keras.layers import Dense\n",
        "from tensorflow.keras.layers import Dropout\n",
        "\n",
        "embedding_vector_features=40\n",
        "model=Sequential()\n",
        "model.add(Embedding(voc_size,embedding_vector_features,input_length=sent_length))\n",
        "model.add(Dropout(0.3))\n",
        "model.add(LSTM(100)) #Adding 100 lstm neurons in the layer\n",
        "model.add(Dropout(0.3))\n",
        "model.add(Dense(1,activation='sigmoid'))\n",
        "model.compile(loss='binary_crossentropy',optimizer='adam',metrics=['accuracy'])"
      ],
      "metadata": {
        "id": "lN99t5cXWwBU"
      },
      "execution_count": null,
      "outputs": []
    },
    {
      "cell_type": "code",
      "source": [
        "dat['label'] = pd.factorize(dat['label'])[0]\n",
        "y = dat['label']\n",
        "X_final=np.array(embedded_docs)\n",
        "y_final=np.array(y)"
      ],
      "metadata": {
        "id": "_zV_Q3T2hxe3"
      },
      "execution_count": null,
      "outputs": []
    },
    {
      "cell_type": "code",
      "source": [
        "X_train, X_test, y_train, y_test = train_test_split(X_final,y_final, test_size=0.2, random_state=42)\n",
        "model.fit(X_train,y_train,validation_data=(X_test,y_test),epochs=10,batch_size=64)"
      ],
      "metadata": {
        "id": "h2AVnlW8hGZW"
      },
      "execution_count": null,
      "outputs": []
    },
    {
      "cell_type": "code",
      "source": [
        "y_pred=model.predict(X_test)\n",
        "for i in range(0,np.shape(y_pred)[0]):\n",
        "  if(y_pred[i]>0.5):\n",
        "    y_pred[i]=1\n",
        "  else:\n",
        "    y_pred[i]=0\n",
        "y_pred"
      ],
      "metadata": {
        "id": "erw5sc9VhGcV"
      },
      "execution_count": null,
      "outputs": []
    },
    {
      "cell_type": "code",
      "source": [
        "from sklearn.metrics import accuracy_score\n",
        "accuracy_score(y_test,y_pred)"
      ],
      "metadata": {
        "id": "kfFhpqwFhGf5"
      },
      "execution_count": null,
      "outputs": []
    },
    {
      "cell_type": "code",
      "source": [
        "rev2 = []\n",
        "for i in range(0,6335):\n",
        "  new = re.sub('[^a-zA-Z]',' ',dat['text'][i])\n",
        "  new = new.lower()\n",
        "  new = new.split()\n",
        "  new = [ps.stem(word) for word in new if not word in set(sw)]\n",
        "  new =  ' '.join(new)\n",
        "  rev2.append(new)\n",
        "rev2"
      ],
      "metadata": {
        "id": "cb7dcCI6pc2n"
      },
      "execution_count": null,
      "outputs": []
    },
    {
      "cell_type": "code",
      "source": [
        "voc_size = 6000\n",
        "onehot_repr=[one_hot(words,voc_size)for words in rev2]\n",
        "sent_length=20\n",
        "embedded_docs=pad_sequences(onehot_repr,padding='pre',maxlen=sent_length)\n",
        "print(embedded_docs)\n",
        "np.shape(embedded_docs)"
      ],
      "metadata": {
        "id": "gTf7GfKXpc6J"
      },
      "execution_count": null,
      "outputs": []
    },
    {
      "cell_type": "code",
      "source": [
        "dat['label'] = pd.factorize(dat['label'])[0]\n",
        "y = dat['label']\n",
        "X_final=np.array(embedded_docs)\n",
        "y_final=np.array(y)"
      ],
      "metadata": {
        "id": "tQ6NWa46pc9S"
      },
      "execution_count": null,
      "outputs": []
    },
    {
      "cell_type": "code",
      "source": [
        "X_train, X_test, y_train, y_test = train_test_split(X_final,y_final, test_size=0.2, random_state=42)\n",
        "model.fit(X_train,y_train,validation_data=(X_test,y_test),epochs=10,batch_size=64)"
      ],
      "metadata": {
        "id": "J-OPNkSWpdAm"
      },
      "execution_count": null,
      "outputs": []
    },
    {
      "cell_type": "code",
      "source": [
        "y_pred=model.predict(X_test)\n",
        "for i in range(0,np.shape(y_pred)[0]):\n",
        "  if(y_pred[i]>0.5):\n",
        "    y_pred[i]=1\n",
        "  else:\n",
        "    y_pred[i]=0\n",
        "y_pred"
      ],
      "metadata": {
        "id": "8DKK55I-pdEE"
      },
      "execution_count": null,
      "outputs": []
    },
    {
      "cell_type": "code",
      "source": [
        "from sklearn.metrics import accuracy_score\n",
        "accuracy_score(y_test,y_pred)"
      ],
      "metadata": {
        "id": "mYzneC6eqJwG"
      },
      "execution_count": null,
      "outputs": []
    }
  ]
}