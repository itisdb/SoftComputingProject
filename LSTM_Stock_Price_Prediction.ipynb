{
  "nbformat": 4,
  "nbformat_minor": 0,
  "metadata": {
    "colab": {
      "name": "LSTM Stock Price Prediction.ipynb",
      "provenance": [],
      "collapsed_sections": []
    },
    "kernelspec": {
      "name": "python3",
      "display_name": "Python 3"
    },
    "language_info": {
      "name": "python"
    }
  },
  "cells": [
    {
      "cell_type": "code",
      "execution_count": null,
      "metadata": {
        "id": "0lov_89b0BLd"
      },
      "outputs": [],
      "source": [
        "from google.colab import drive\n",
        "drive.mount('/content/drive')"
      ]
    },
    {
      "cell_type": "code",
      "source": [
        "import pandas as pd\n",
        "import numpy as np\n",
        "import tensorflow as tf\n",
        "from tensorflow.keras.models import Sequential\n",
        "from tensorflow.keras.layers import Dense,Dropout,LSTM\n",
        "from sklearn.model_selection import train_test_split\n",
        "from sklearn.preprocessing import MinMaxScaler\n",
        "ms = MinMaxScaler(feature_range=(0,1))\n",
        "ms_new = MinMaxScaler(feature_range=(0,1))"
      ],
      "metadata": {
        "id": "l0LnFBKc0Iux"
      },
      "execution_count": null,
      "outputs": []
    },
    {
      "cell_type": "code",
      "source": [
        "dat = pd.read_csv('/content/drive/MyDrive/Deep Learning/NSE-Tata-Global-Beverages-Limited.csv')\n",
        "dat"
      ],
      "metadata": {
        "id": "aB9RWuKA0I1n"
      },
      "execution_count": null,
      "outputs": []
    },
    {
      "cell_type": "code",
      "source": [
        "dat = np.array(dat['Close']).reshape(-1,1)\n",
        "ms.fit(dat)\n",
        "dat = ms.fit_transform(np.array(dat))\n",
        "print(np.shape(dat))\n",
        "dat"
      ],
      "metadata": {
        "id": "PWP6KbR93JF1"
      },
      "execution_count": null,
      "outputs": []
    },
    {
      "cell_type": "code",
      "source": [
        "time_step = 60\n",
        "X = np.zeros([np.shape(dat)[0]-time_step,time_step])\n",
        "y = np.zeros([np.shape(dat)[0]-time_step])\n",
        "for i in range(0,np.shape(dat)[0]-time_step):\n",
        "  for j in range(i,i+time_step):\n",
        "    X[i][j-i] = dat[j][0]\n",
        "  y[i] = dat[i+time_step][0]\n",
        "\n",
        "print(X)\n",
        "print(np.shape(X))\n",
        "print(y)\n",
        "print(np.shape(y))\n"
      ],
      "metadata": {
        "id": "oLGBjs_D0I44"
      },
      "execution_count": null,
      "outputs": []
    },
    {
      "cell_type": "code",
      "source": [
        "X_train = X[0:900,:]\n",
        "X_test = X[900:1175,:]\n",
        "y_train = y[0:900]\n",
        "y_test = y[900:1175]\n",
        "\n",
        "print(np.shape(X_train))\n",
        "print(np.shape(X_test))\n",
        "print(np.shape(y_train))\n",
        "print(np.shape(y_test))"
      ],
      "metadata": {
        "id": "BRVefCqP4knn"
      },
      "execution_count": null,
      "outputs": []
    },
    {
      "cell_type": "code",
      "source": [
        "X_train = np.reshape(X_train,(np.shape(X_train)[0],np.shape(X_train)[1],1))\n",
        "X_test = np.reshape(X_test,(np.shape(X_test)[0],np.shape(X_test)[1],1))\n",
        "print(np.shape(X_train))\n",
        "print(np.shape(X_test))"
      ],
      "metadata": {
        "id": "NQXX86GRwpVS"
      },
      "execution_count": null,
      "outputs": []
    },
    {
      "cell_type": "code",
      "source": [
        "model=Sequential()\n",
        "\n",
        "model.add(LSTM(units = 50, return_sequences = True, input_shape = (X_train.shape[1], 1)))\n",
        "model.add(Dropout(rate = 0.2))\n",
        "\n",
        "model.add(LSTM(units = 50, return_sequences = False))\n",
        "model.add(Dropout(rate = 0.2))\n",
        "\n",
        "model.add(Dense(25))\n",
        "model.add(Dense(1))\n",
        "\n",
        "model.compile(loss='mean_squared_error',optimizer='adam')\n",
        "\n",
        "model.fit(X_train,y_train,epochs=1,batch_size=1,verbose=1)"
      ],
      "metadata": {
        "id": "DhQIuH3O4kqt"
      },
      "execution_count": null,
      "outputs": []
    },
    {
      "cell_type": "code",
      "source": [
        "train_pred = model.predict(X_train)\n",
        "test_pred = model.predict(X_test)\n",
        "train_pred = ms.inverse_transform(train_pred)\n",
        "test_pred = ms.inverse_transform(test_pred)\n",
        "print(\"Predicted train values are ---\")\n",
        "print(train_pred)\n",
        "print(\"Predicted test values are ---\")\n",
        "print(test_pred)"
      ],
      "metadata": {
        "id": "bbZ5HcSw4kuF"
      },
      "execution_count": null,
      "outputs": []
    },
    {
      "cell_type": "code",
      "source": [
        "print(np.shape(y_test))\n",
        "y_test=y_test.reshape(-1,1)\n",
        "print(np.shape(y_test))\n",
        "y_test = ms.inverse_transform(y_test)\n",
        "y_test"
      ],
      "metadata": {
        "id": "Ttwx-9G3Ormy"
      },
      "execution_count": null,
      "outputs": []
    },
    {
      "cell_type": "code",
      "source": [
        "print(np.shape(y_train))\n",
        "y_train=y_train.reshape(-1,1)\n",
        "print(np.shape(y_train))\n",
        "y_train = ms.inverse_transform(y_train)\n",
        "y_train"
      ],
      "metadata": {
        "id": "y9RmmZX3Sc4e"
      },
      "execution_count": null,
      "outputs": []
    },
    {
      "cell_type": "code",
      "source": [
        "from sklearn.metrics import mean_squared_error,r2_score\n",
        "np.sqrt(np.mean(y_test-test_pred)**2)"
      ],
      "metadata": {
        "id": "oi_4p3jUKbBD"
      },
      "execution_count": null,
      "outputs": []
    },
    {
      "cell_type": "code",
      "source": [
        "from sklearn.metrics import mean_squared_error,r2_score\n",
        "np.sqrt(np.mean(y_train-train_pred)**2)"
      ],
      "metadata": {
        "id": "cZN-3a0yNGdi"
      },
      "execution_count": null,
      "outputs": []
    },
    {
      "cell_type": "code",
      "source": [
        "import matplotlib.pyplot as plt\n",
        "plt.plot(y_train,color='b')\n",
        "plt.plot(train_pred,color='r')"
      ],
      "metadata": {
        "id": "04UmpPMXOjOx"
      },
      "execution_count": null,
      "outputs": []
    },
    {
      "cell_type": "code",
      "source": [
        "plt.plot(y_test,color='y')\n",
        "plt.plot(test_pred,color='g')"
      ],
      "metadata": {
        "id": "ewQsHX4kOjSG"
      },
      "execution_count": null,
      "outputs": []
    },
    {
      "cell_type": "code",
      "source": [
        "dat = pd.read_csv('/content/drive/MyDrive/Deep Learning/NSE-Tata-Global-Beverages-Limited.csv')\n",
        "df = pd.DataFrame(dat)\n",
        "df = df.drop(['Date'],axis=1)\n",
        "df"
      ],
      "metadata": {
        "id": "Pv7Hr9DDuylQ"
      },
      "execution_count": null,
      "outputs": []
    },
    {
      "cell_type": "code",
      "source": [
        "ms.fit(df)\n",
        "dat = ms.fit_transform(np.array(df))\n",
        "print(np.shape(df))\n",
        "ms_new.fit(np.reshape(np.array(df['Total Trade Quantity']),(-1,1)))\n",
        "ms_new.fit_transform(np.reshape(np.array(df['Total Trade Quantity']),(-1,1)))\n",
        "dat"
      ],
      "metadata": {
        "id": "hViYbrk6uyoH"
      },
      "execution_count": null,
      "outputs": []
    },
    {
      "cell_type": "code",
      "source": [
        "X = np.zeros((1175,60,7))\n",
        "y = []\n",
        "print(np.shape(X))\n",
        "for i in range(0,1175):\n",
        "  for j in range(0,60):\n",
        "    for k in range(0,7):\n",
        "      X[i][j][k] = dat[i+j][k]\n",
        "  y.append(dat[i+60][5])\n",
        "print(np.shape(y))\n",
        "print(y)\n",
        "X"
      ],
      "metadata": {
        "id": "oKvuPeDe5M6o"
      },
      "execution_count": null,
      "outputs": []
    },
    {
      "cell_type": "code",
      "source": [
        "X_train = np.array(X[0:900,:,:])\n",
        "X_test = np.array(X[900:1175,:,:])\n",
        "y_train = np.array(y[0:900])\n",
        "y_test = np.array(y[900:1175])\n",
        "\n",
        "print(np.shape(X_train))\n",
        "print(np.shape(X_test))\n",
        "print(np.shape(y_train))\n",
        "print(np.shape(y_test))"
      ],
      "metadata": {
        "id": "wWeIpxDQLpHH"
      },
      "execution_count": null,
      "outputs": []
    },
    {
      "cell_type": "code",
      "source": [
        "model=Sequential()\n",
        "\n",
        "model.add(LSTM(units = 50, return_sequences = True, input_shape = (X_train.shape[1],X_train.shape[2])))\n",
        "model.add(Dropout(rate = 0.2))\n",
        "\n",
        "model.add(LSTM(units = 50, return_sequences = True))\n",
        "model.add(Dropout(rate = 0.2))\n",
        "\n",
        "model.add(LSTM(units = 50, return_sequences = False))\n",
        "model.add(Dropout(rate = 0.2))\n",
        "\n",
        "model.add(Dense(25))\n",
        "model.add(Dense(1))\n",
        "\n",
        "model.compile(loss='mean_squared_error',optimizer='adam')\n",
        "\n",
        "model.fit(X_train,y_train,epochs=30,batch_size=10,verbose=1)"
      ],
      "metadata": {
        "id": "4gr8iUb3uyum"
      },
      "execution_count": null,
      "outputs": []
    },
    {
      "cell_type": "code",
      "source": [
        "train_pred = model.predict(X_train)\n",
        "test_pred = model.predict(X_test)\n",
        "\n",
        "train_pred = ms_new.inverse_transform(train_pred)\n",
        "test_pred = ms_new.inverse_transform(test_pred)\n",
        "print(\"Predicted train values are ---\")\n",
        "print(train_pred)\n",
        "print(\"Predicted test values are ---\")\n",
        "print(test_pred)"
      ],
      "metadata": {
        "id": "W6SWMyKqMs-e"
      },
      "execution_count": null,
      "outputs": []
    },
    {
      "cell_type": "code",
      "source": [
        "y_test=y_test.reshape(-1,1)\n",
        "print(np.shape(y_test))\n",
        "y_test = ms_new.inverse_transform(y_test)\n",
        "y_test"
      ],
      "metadata": {
        "id": "sHBaDKjgMtDW"
      },
      "execution_count": null,
      "outputs": []
    },
    {
      "cell_type": "code",
      "source": [
        "y_train=y_train.reshape(-1,1)\n",
        "print(np.shape(y_train))\n",
        "y_train = ms_new.inverse_transform(y_train)\n",
        "y_train"
      ],
      "metadata": {
        "id": "gjBPop48MtG0"
      },
      "execution_count": null,
      "outputs": []
    },
    {
      "cell_type": "code",
      "source": [
        "from sklearn.metrics import mean_squared_error,r2_score\n",
        "np.sqrt(np.mean(y_test-test_pred)**2)"
      ],
      "metadata": {
        "id": "3trOUaaoPfPr"
      },
      "execution_count": null,
      "outputs": []
    },
    {
      "cell_type": "code",
      "source": [
        "from sklearn.metrics import mean_squared_error,r2_score\n",
        "np.sqrt(np.mean(y_train-train_pred)**2)"
      ],
      "metadata": {
        "id": "1FwzGr5wP_ga"
      },
      "execution_count": null,
      "outputs": []
    },
    {
      "cell_type": "code",
      "source": [
        "r2_score(y_test,test_pred)"
      ],
      "metadata": {
        "id": "RmUzB-cHl5h1"
      },
      "execution_count": null,
      "outputs": []
    },
    {
      "cell_type": "code",
      "source": [
        "import matplotlib.pyplot as plt\n",
        "plt.plot(y_train,color='b')\n",
        "plt.plot(train_pred,color='r')"
      ],
      "metadata": {
        "id": "A5aLiig7P_pN"
      },
      "execution_count": null,
      "outputs": []
    },
    {
      "cell_type": "code",
      "source": [
        "plt.plot(y_test,color='y')\n",
        "plt.plot(test_pred,color='g')"
      ],
      "metadata": {
        "id": "ydsDGRCnP_sl"
      },
      "execution_count": null,
      "outputs": []
    }
  ]
}