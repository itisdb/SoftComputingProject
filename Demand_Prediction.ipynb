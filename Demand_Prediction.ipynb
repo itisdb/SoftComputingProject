{
  "nbformat": 4,
  "nbformat_minor": 0,
  "metadata": {
    "colab": {
      "name": "Demand Prediction.ipynb",
      "provenance": [],
      "collapsed_sections": []
    },
    "kernelspec": {
      "name": "python3",
      "display_name": "Python 3"
    },
    "language_info": {
      "name": "python"
    }
  },
  "cells": [
    {
      "cell_type": "code",
      "execution_count": null,
      "metadata": {
        "id": "cm9x3QTo8uLd"
      },
      "outputs": [],
      "source": [
        "from google.colab import drive\n",
        "drive.mount('/content/drive')"
      ]
    },
    {
      "cell_type": "code",
      "source": [
        "import pandas as pd\n",
        "import numpy as np\n",
        "import tensorflow as tf\n",
        "from tensorflow.keras.models import Sequential\n",
        "from tensorflow.keras.layers import Dense,Dropout,LSTM\n",
        "from sklearn.model_selection import train_test_split\n",
        "from sklearn.preprocessing import MinMaxScaler\n",
        "ms = MinMaxScaler(feature_range=(0,1))\n",
        "from sklearn.preprocessing import StandardScaler\n",
        "sc = StandardScaler()"
      ],
      "metadata": {
        "id": "9be-C13z-D9L"
      },
      "execution_count": null,
      "outputs": []
    },
    {
      "cell_type": "code",
      "source": [
        "import numpy as np\n",
        "import pandas as pd\n",
        "dat = pd.read_csv('/content/drive/MyDrive/Deep Learning/sample demand forecast.csv')\n",
        "dat"
      ],
      "metadata": {
        "id": "PDHWsXz79jOl"
      },
      "execution_count": null,
      "outputs": []
    },
    {
      "cell_type": "code",
      "source": [
        "dat_train = pd.read_csv('/content/drive/MyDrive/Deep Learning/train.csv')\n",
        "df1 = pd.DataFrame(dat_train)\n",
        "df1 = df1.drop(['date'],axis=1)\n",
        "df1"
      ],
      "metadata": {
        "id": "rdR92-Zt9jVh"
      },
      "execution_count": null,
      "outputs": []
    },
    {
      "cell_type": "code",
      "source": [
        "sc.fit(np.reshape(np.array(df1['sales']),(-1,1)))\n",
        "df1['sales'] = sc.fit_transform(np.reshape(np.array(df1['sales']),(-1,1)))\n",
        "df1\n"
      ],
      "metadata": {
        "id": "EngmEdAI-Pgf"
      },
      "execution_count": null,
      "outputs": []
    },
    {
      "cell_type": "code",
      "source": [
        "x=1\n",
        "y=1\n",
        "while(x!=11):\n",
        "  y=1\n",
        "  while(y!=51):\n",
        "    op = df1.loc[(df1['item']==y) & (df1['store']==x)]\n",
        "    print(op)\n",
        "    y=y+1\n",
        "  x=x+1"
      ],
      "metadata": {
        "id": "0OJvViu-wlel"
      },
      "execution_count": null,
      "outputs": []
    },
    {
      "cell_type": "code",
      "source": [
        "X = []\n",
        "time = 60\n",
        "i=1\n",
        "while(i!=11):\n",
        "  a = []\n",
        "  j=1\n",
        "  while(j!=51):\n",
        "    k=0\n",
        "    b = []\n",
        "    op = np.array(df1.loc[(df1['item']==j) & (df1['store']==i)])\n",
        "    len = np.shape(op)[0]\n",
        "    while(k!=len-time):\n",
        "      c = []\n",
        "      l=0\n",
        "      while(l!=time):\n",
        "        c.append(op[k+l][2])\n",
        "        l=l+1\n",
        "      b.append(c)\n",
        "      k=k+1\n",
        "    a.append(b)\n",
        "    j=j+1\n",
        "  X.append(a)\n",
        "  i=i+1\n",
        "\n",
        "np.shape(X)\n"
      ],
      "metadata": {
        "id": "ac7eE1UYwlhj"
      },
      "execution_count": null,
      "outputs": []
    },
    {
      "cell_type": "code",
      "source": [
        "np.shape(np.array(X[0][0]))[0]"
      ],
      "metadata": {
        "id": "YhTuGCM2wlkk"
      },
      "execution_count": null,
      "outputs": []
    },
    {
      "cell_type": "code",
      "source": [
        "y = []\n",
        "time = 60\n",
        "for i in range(1,11):\n",
        "  a = []\n",
        "  for j in range(1,51):\n",
        "    b = []\n",
        "    op = np.array(df1.loc[(df1['item']==j) & (df1['store']==i)])\n",
        "    len = np.shape(op)[0]\n",
        "    for k in range(0,len-time):\n",
        "      b.append(op[k+time][2])\n",
        "    a.append(b)\n",
        "  y.append(a)\n",
        "\n",
        "np.shape(y)"
      ],
      "metadata": {
        "id": "A58IVapqwloB"
      },
      "execution_count": null,
      "outputs": []
    },
    {
      "cell_type": "code",
      "source": [
        "print(np.array(y[0][0]))"
      ],
      "metadata": {
        "id": "ws43ueT38uqj"
      },
      "execution_count": null,
      "outputs": []
    },
    {
      "cell_type": "code",
      "source": [
        "dat_test = pd.read_csv('/content/drive/MyDrive/Deep Learning/test.csv')\n",
        "dat_test"
      ],
      "metadata": {
        "id": "361ZOWt9A-Kf"
      },
      "execution_count": null,
      "outputs": []
    },
    {
      "cell_type": "code",
      "source": [
        "model=Sequential()\n",
        "\n",
        "model.add(LSTM(units = 50, return_sequences = True, input_shape = (60,1)))\n",
        "model.add(Dropout(rate = 0.2))\n",
        "\n",
        "model.add(LSTM(units = 50, return_sequences = False))\n",
        "model.add(Dropout(rate = 0.2))\n",
        "\n",
        "model.add(Dense(25))\n",
        "model.add(Dense(1))\n",
        "\n",
        "model.compile(loss='mean_squared_error',optimizer='adam')"
      ],
      "metadata": {
        "id": "cZdQW_nJDB43"
      },
      "execution_count": null,
      "outputs": []
    },
    {
      "cell_type": "code",
      "source": [
        "y_pred = []\n",
        "for i in range(0,20):\n",
        "  p = dat_test['store'][i]\n",
        "  q = dat_test['item'][i]\n",
        "  X_test = []\n",
        "  X = np.array(X)\n",
        "  dom = 1766\n",
        "  for j in range(1,60):\n",
        "    X_test.append(X[p-1][q-1][dom-1][j])\n",
        "  X_test.append(y[p-1][q-1][dom-1])\n",
        "  temp = np.zeros((1,60,1))\n",
        "  for j in range(0,60):\n",
        "    temp[0][j][0] = X_test[j]\n",
        "  \n",
        "  model.fit(np.array(X[p-1][q-1]),np.array(y[p-1][q-1]),epochs=1,batch_size=20,verbose=1)\n",
        "  pred = model.predict(temp)\n",
        "  pred = sc.inverse_transform(pred)\n",
        "  y_pred.append(pred)\n"
      ],
      "metadata": {
        "id": "v8IifTPOCYWW"
      },
      "execution_count": null,
      "outputs": []
    },
    {
      "cell_type": "code",
      "source": [
        "y_pred"
      ],
      "metadata": {
        "id": "KID5Mc42CYcH"
      },
      "execution_count": null,
      "outputs": []
    },
    {
      "cell_type": "code",
      "source": [
        "k=np.zeros(np.shape(y_pred)[0])\n",
        "for i in range(0,np.shape(y_pred)[0]):\n",
        "  k[i]=y_pred[i][0][0]\n",
        "k"
      ],
      "metadata": {
        "id": "KmDzkClFCYfs"
      },
      "execution_count": null,
      "outputs": []
    },
    {
      "cell_type": "code",
      "source": [
        "t = dat_train['sales'][0:20]\n",
        "t"
      ],
      "metadata": {
        "id": "MSodjODZ9jZH"
      },
      "execution_count": null,
      "outputs": []
    },
    {
      "cell_type": "code",
      "source": [
        "s=0\n",
        "for i in range(0,20):\n",
        "  s = s+(t[i]-k[i])**2\n",
        "np.sqrt(s)"
      ],
      "metadata": {
        "id": "eYArTMzgpWVu"
      },
      "execution_count": null,
      "outputs": []
    },
    {
      "cell_type": "code",
      "source": [
        "import matplotlib.pyplot as plt\n",
        "plt.plot(t)\n",
        "plt.plot(k)"
      ],
      "metadata": {
        "id": "2fOECDfXrQFr"
      },
      "execution_count": null,
      "outputs": []
    }
  ]
}